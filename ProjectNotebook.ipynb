{
  "cells": [
    {
      "attachments": {},
      "cell_type": "markdown",
      "metadata": {},
      "source": [
        "# Importing libs"
      ]
    },
    {
      "cell_type": "code",
      "execution_count": 3,
      "metadata": {
        "id": "xIhTPaIrDDMs"
      },
      "outputs": [],
      "source": [
        "from bs4 import BeautifulSoup\n",
        "import requests\n",
        "import os\n",
        "import re\n",
        "from googletrans import Translator"
      ]
    },
    {
      "attachments": {},
      "cell_type": "markdown",
      "metadata": {},
      "source": [
        "## parse data"
      ]
    },
    {
      "cell_type": "code",
      "execution_count": 4,
      "metadata": {
        "colab": {
          "base_uri": "https://localhost:8080/"
        },
        "id": "6X8WYpnhQ9h1",
        "outputId": "c8286445-3d16-4e91-b443-7e266f35bc3d"
      },
      "outputs": [],
      "source": [
        "agent = {\"User-Agent\":\"Mozilla/5.0\"}\n",
        "html_data = requests.get('https://www.classcentral.com', headers=agent).text\n",
        "soup = BeautifulSoup(html_data, 'html.parser')"
      ]
    },
    {
      "attachments": {},
      "cell_type": "markdown",
      "metadata": {},
      "source": [
        "get the desired imgs"
      ]
    },
    {
      "cell_type": "code",
      "execution_count": 102,
      "metadata": {},
      "outputs": [],
      "source": [
        "fileToRead = open(\"relapage.html\", \"r\", encoding=\"utf8\")\n",
        "soup = BeautifulSoup(fileToRead, 'html.parser')\n",
        "fileToRead.close()"
      ]
    },
    {
      "cell_type": "code",
      "execution_count": 103,
      "metadata": {},
      "outputs": [],
      "source": [
        "src_imgs = soup.find_all('img')"
      ]
    },
    {
      "cell_type": "code",
      "execution_count": 104,
      "metadata": {},
      "outputs": [
        {
          "data": {
            "text/plain": [
              "54"
            ]
          },
          "execution_count": 104,
          "metadata": {},
          "output_type": "execute_result"
        }
      ],
      "source": [
        "len(src_imgs)"
      ]
    },
    {
      "attachments": {},
      "cell_type": "markdown",
      "metadata": {},
      "source": [
        "### getting the wanted to change imgs"
      ]
    },
    {
      "cell_type": "code",
      "execution_count": 105,
      "metadata": {},
      "outputs": [
        {
          "name": "stdout",
          "output_type": "stream",
          "text": [
            "66\n",
            "54\n",
            "https://ccweb.imgix.net/https%3A%2F%2Fwww.classcentral.com%2Fimages%2Fillustrations%2Flearning-illustration-valentine.png?auto=fयाmat&h=650&ixlib=php-3.3.1&s=fdc8f87b79fd3e2a8a22811688010dc6\n"
          ]
        }
      ],
      "source": [
        "with open(\".\\\\ttracker\\classcentral\\www.classcentral.com\\index.html\", 'r+',\n",
        "          encoding=\"utf8\") as file:\n",
        "    text = file.read()\n",
        "    txt = re.findall(' src=\".*[png gif].*\"', text)\n",
        "print(len(txt))\n",
        "txt = txt[10:-2]\n",
        "for i in range(len(txt)):\n",
        "    txt[i] = txt[i][6:-1]\n",
        "print(len(txt))\n",
        "print(txt[0])"
      ]
    },
    {
      "attachments": {},
      "cell_type": "markdown",
      "metadata": {},
      "source": [
        "### changing the imgs"
      ]
    },
    {
      "cell_type": "code",
      "execution_count": 107,
      "metadata": {},
      "outputs": [],
      "source": [
        "def change_html_content(replacing_text_list, target_text_list):\n",
        "    if not len(target_text_list) == len(replacing_text_list):\n",
        "        print('2 non equal lists')\n",
        "    with open(\".\\\\ttracker\\classcentral\\www.classcentral.com\\index.html\", 'r+',\n",
        "          encoding=\"utf8\") as file:\n",
        "        text = file.read()\n",
        "        for i in range(len(src_imgs)):\n",
        "            text = text.replace(target_text_list[i], replacing_text_list[i])\n",
        "        file.seek(0)\n",
        "        file.write(text)\n",
        "        file.truncate()"
      ]
    },
    {
      "cell_type": "code",
      "execution_count": 108,
      "metadata": {},
      "outputs": [],
      "source": [
        "with open(\".\\\\ttracker\\classcentral\\www.classcentral.com\\index.html\", 'r+',\n",
        "          encoding=\"utf8\") as file:\n",
        "    text = file.read()\n",
        "    for i in range(len(src_imgs)):\n",
        "        text = text.replace(txt[i], src_imgs[i]['src'])\n",
        "    file.seek(0)\n",
        "    file.write(text)\n",
        "    file.truncate()\n",
        "    "
      ]
    },
    {
      "cell_type": "code",
      "execution_count": null,
      "metadata": {
        "id": "HRQ6-QvvRkqQ"
      },
      "outputs": [],
      "source": [
        "with open(os.path.join('test.html'), 'w',\n",
        "              encoding=\"utf-8\") as dictfile:\n",
        "        dictfile.write(soup)"
      ]
    },
    {
      "attachments": {},
      "cell_type": "markdown",
      "metadata": {},
      "source": [
        "## translating the pages to hindi\n",
        "- we need to get the wanted text\n",
        "- text is inside tages or the contents of tags\n",
        "- we need to translate it\n",
        "- we need to replace it"
      ]
    },
    {
      "attachments": {},
      "cell_type": "markdown",
      "metadata": {},
      "source": [
        "### get the required tags"
      ]
    },
    {
      "cell_type": "code",
      "execution_count": 114,
      "metadata": {
        "colab": {
          "base_uri": "https://localhost:8080/"
        },
        "id": "6zciR8lOEHFT",
        "outputId": "76712a34-ea97-4949-a3e3-10877c87a46a"
      },
      "outputs": [],
      "source": [
        "def get_tags(soup):\n",
        "  tags = ['p', 'a', 'h1', 'h2', 'h3', 'h4', 'title', 'button']\n",
        "  # for x in soup.find_all():\n",
        "  #   tags.append(x.name)\n",
        "  tags = set(tags)\n",
        "  # tags_list = ['style', 'html', 'body', 'script', 'head', 'meta',\n",
        "  #              'header', 'footer', 'img', 'section', 'link']\n",
        "  # for tag in tags_list:\n",
        "  #   if tag in tags:\n",
        "  #     tags.remove(tag)\n",
        "  return tags"
      ]
    },
    {
      "attachments": {},
      "cell_type": "markdown",
      "metadata": {},
      "source": [
        "### get the sentences which we want to translate"
      ]
    },
    {
      "cell_type": "code",
      "execution_count": 161,
      "metadata": {},
      "outputs": [],
      "source": [
        "def get_sentences(tags, soup):\n",
        "    sentences = []\n",
        "    if soup.find('title').text == 'Just a moment...':\n",
        "        return ''\n",
        "    print(soup.find('title').text)\n",
        "    for tag in tags:\n",
        "        tag_list = soup.find_all(tag)\n",
        "        for i in tag_list:\n",
        "            if i.text:\n",
        "                sentences.append(re.split('\\n+', i.text))\n",
        "    return sentences"
      ]
    },
    {
      "attachments": {},
      "cell_type": "markdown",
      "metadata": {},
      "source": [
        "### translate every sentences"
      ]
    },
    {
      "cell_type": "code",
      "execution_count": 8,
      "metadata": {
        "colab": {
          "base_uri": "https://localhost:8080/"
        },
        "id": "8GdrXQTAxD3r",
        "outputId": "fdfd8f27-49a9-4b92-b009-47dff9136fe0"
      },
      "outputs": [
        {
          "name": "stdout",
          "output_type": "stream",
          "text": [
            "hi\n",
            "en\n",
            "Harvard\n"
          ]
        }
      ],
      "source": [
        "translator = Translator(service_urls=['translate.googleapis.com'])\n",
        "\n",
        "result = translator.translate('हार्वर्ड', src='hi', dest='en')\n",
        "\n",
        "print(result.src)\n",
        "print(result.dest)\n",
        "print(result.text)"
      ]
    },
    {
      "cell_type": "code",
      "execution_count": 177,
      "metadata": {
        "id": "fQhDKojLxQDU"
      },
      "outputs": [],
      "source": [
        "x = [1,2,3]\n",
        "def translate(sentences, file_path):\n",
        "    print('translating')\n",
        "    translator = Translator(service_urls=['translate.googleapis.com'])\n",
        "    if 'or' in sentences:\n",
        "        sentence = sentences.remove('or')\n",
        "    if 'harvard' in sentences:\n",
        "        sentence = sentences.remove('harvard')\n",
        "    with open(\".\\\\ttracker\\classcentral\\www.classcentral.com\\\\\"+file_path, 'r+',\n",
        "            encoding=\"utf8\") as file:\n",
        "        text = file.read()\n",
        "        for sentence in sentences:\n",
        "            if type(sentence) == type(x):\n",
        "                if x in sentence:\n",
        "                    sentence = sentence.remove(x)\n",
        "                for s in sentence: \n",
        "                    if s == '&nbsp;':\n",
        "                        continue                       \n",
        "                    if s is None:\n",
        "                        continue\n",
        "                    if s == '':\n",
        "                        continue\n",
        "                    if s.isspace():\n",
        "                        continue\n",
        "                    else:\n",
        "                        print(s)\n",
        "                        result = translator.translate(str(s), src='en', dest='hi')\n",
        "                        text = text.replace(s, result.text)\n",
        "                        \n",
        "            else:\n",
        "                if s == '&nbsp;':\n",
        "                        continue  \n",
        "                if len(sentence) == 0:\n",
        "                        continue\n",
        "                if sentence.isspace():\n",
        "                        continue\n",
        "                if sentence is None:\n",
        "                        continue\n",
        "                \n",
        "                else:\n",
        "                    print(sentence)\n",
        "                    result = translator.translate(sentence, src='en', dest='hi')\n",
        "                    text = text.replace(sentence, result.text)\n",
        "\n",
        "        file.seek(0)\n",
        "        file.write(text)\n",
        "        file.truncate()"
      ]
    },
    {
      "attachments": {},
      "cell_type": "markdown",
      "metadata": {},
      "source": [
        "### Full translation function\n"
      ]
    },
    {
      "cell_type": "code",
      "execution_count": 31,
      "metadata": {},
      "outputs": [],
      "source": [
        "def get_soup(file_path):\n",
        "    fileToRead = open(\".\\\\ttracker\\classcentral\\www.classcentral.com\\\\\"+file_path, \"r\", encoding=\"utf8\")\n",
        "    soup = BeautifulSoup(fileToRead, 'html.parser')\n",
        "    fileToRead.close()\n",
        "    return soup"
      ]
    },
    {
      "cell_type": "code",
      "execution_count": 209,
      "metadata": {},
      "outputs": [],
      "source": [
        "def download_soup(file_path):\n",
        "    with open(\".\\\\ttracker\\classcentral\\www.classcentral.com\\\\\"+file_path, 'r+',\n",
        "            encoding=\"utf8\") as file:\n",
        "        text = str(get_soup(file_path))\n",
        "        file.seek(0)\n",
        "        file.write(text)\n",
        "        file.truncate()"
      ]
    },
    {
      "cell_type": "code",
      "execution_count": 57,
      "metadata": {},
      "outputs": [],
      "source": [
        "def full_translate(file_path):\n",
        "    print('working on ' + file_path)\n",
        "    soup = get_soup(file_path)\n",
        "    tags = get_tags(soup)\n",
        "    sentences = get_sentences(tags, soup)\n",
        "    translate(sentences, file_path)"
      ]
    },
    {
      "cell_type": "code",
      "execution_count": 14,
      "metadata": {},
      "outputs": [],
      "source": [
        "ori_soup = get_soup('\\index.html')"
      ]
    },
    {
      "cell_type": "code",
      "execution_count": 182,
      "metadata": {},
      "outputs": [],
      "source": [
        "a_tags = ori_soup.find_all('a')\n",
        "i = 1\n",
        "for tag in a_tags:\n",
        "    if 'index.html' == tag['href']:\n",
        "        continue\n",
        "    else:\n",
        "        print(i)\n",
        "        full_translate(tag['href'])\n",
        "        i += 1"
      ]
    }
  ],
  "metadata": {
    "colab": {
      "provenance": []
    },
    "kernelspec": {
      "display_name": "Python 3",
      "language": "python",
      "name": "python3"
    },
    "language_info": {
      "codemirror_mode": {
        "name": "ipython",
        "version": 3
      },
      "file_extension": ".py",
      "mimetype": "text/x-python",
      "name": "python",
      "nbconvert_exporter": "python",
      "pygments_lexer": "ipython3",
      "version": "3.8.10"
    },
    "vscode": {
      "interpreter": {
        "hash": "4b7ba85ae606e43b4d227a3e53a24b28a241c9d85a77fa78ec4704b93e8f923f"
      }
    }
  },
  "nbformat": 4,
  "nbformat_minor": 0
}
